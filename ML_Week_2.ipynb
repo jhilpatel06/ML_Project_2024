{
  "nbformat": 4,
  "nbformat_minor": 0,
  "metadata": {
    "colab": {
      "provenance": [],
      "toc_visible": true,
      "include_colab_link": true
    },
    "kernelspec": {
      "name": "python3",
      "display_name": "Python 3"
    },
    "language_info": {
      "name": "python"
    }
  },
  "cells": [
    {
      "cell_type": "markdown",
      "metadata": {
        "id": "view-in-github",
        "colab_type": "text"
      },
      "source": [
        "<a href=\"https://colab.research.google.com/github/jhilpatel06/ML_Project_2024/blob/main/ML_Week_2.ipynb\" target=\"_parent\"><img src=\"https://colab.research.google.com/assets/colab-badge.svg\" alt=\"Open In Colab\"/></a>"
      ]
    },
    {
      "cell_type": "markdown",
      "source": [
        "# **CLASSIFICATION**"
      ],
      "metadata": {
        "id": "mNWEk79ChhHT"
      }
    },
    {
      "cell_type": "markdown",
      "source": [
        "Logistic Regression"
      ],
      "metadata": {
        "id": "R1QtPTWuVvuR"
      }
    },
    {
      "cell_type": "code",
      "source": [
        "#Write Code for Logistic Regression here\n",
        "\n",
        "import numpy as np\n",
        "import pandas as pd\n",
        "from sklearn.linear_model import LogisticRegression\n",
        "from sklearn.model_selection import train_test_split\n",
        "from sklearn.metrics import accuracy_score\n",
        "\n",
        "cancer_dataset = pd.read_csv('/content/dataR2.csv')\n",
        "\n",
        "x = cancer_dataset.iloc[:, 1:-1] #Eliminating 1st and Last column\n",
        "y = cancer_dataset.iloc[:, -1]\n",
        "\n",
        "# Split the data into training and testing sets\n",
        "x_train, x_test, y_train, y_test = train_test_split(x,y, test_size=0.2, random_state=42)\n",
        "\n",
        "classification_model = LogisticRegression(max_iter = 300)\n",
        "classification_model.fit(x_train, y_train)\n",
        "predictions = classification_model.predict(x_test)\n",
        "\n",
        "# Calculating accuracy\n",
        "accuracy = accuracy_score(y_test, predictions)\n",
        "\n",
        "# Print out the accuracy\n",
        "print(\"Accuracy:\", accuracy)\n",
        "\n"
      ],
      "metadata": {
        "id": "n7qlcxrqYSX1",
        "colab": {
          "base_uri": "https://localhost:8080/"
        },
        "outputId": "05f98a4d-3b03-4d53-946a-816aefd7ee2b"
      },
      "execution_count": 3,
      "outputs": [
        {
          "output_type": "stream",
          "name": "stdout",
          "text": [
            "Accuracy: 0.8333333333333334\n"
          ]
        }
      ]
    },
    {
      "cell_type": "markdown",
      "source": [
        "SVM(Support Vector Machines)"
      ],
      "metadata": {
        "id": "wudQWSK7YVmD"
      }
    },
    {
      "cell_type": "code",
      "source": [
        "#Write Code for SVM here\n",
        "\n",
        "import numpy as np\n",
        "import pandas as pd\n",
        "from sklearn import svm\n",
        "from sklearn.model_selection import train_test_split\n",
        "from sklearn.metrics import accuracy_score\n",
        "\n",
        "cancer_dataset = pd.read_csv('/content/dataR2.csv')\n",
        "\n",
        "x = cancer_dataset.iloc[:, 1:-1] #Eliminating 1st and Last column\n",
        "y = cancer_dataset.iloc[:, -1]\n",
        "\n",
        "# Split the data into training and testing sets\n",
        "x_train, x_test, y_train, y_test = train_test_split(x,y, test_size=0.2, random_state=42)\n",
        "\n",
        "classification_model = svm.SVC(kernel='linear')\n",
        "classification_model.fit(x_train, y_train)\n",
        "predictions = classification_model.predict(x_test)\n",
        "\n",
        "# Calculating accuracy\n",
        "accuracy = accuracy_score(y_test, predictions)\n",
        "\n",
        "# Print out the accuracy\n",
        "print(\"Accuracy:\", accuracy)\n"
      ],
      "metadata": {
        "id": "PGjeZdk2YY9I",
        "colab": {
          "base_uri": "https://localhost:8080/"
        },
        "outputId": "8b10c565-f4c6-4cf0-b0f5-95fee44bc649"
      },
      "execution_count": 2,
      "outputs": [
        {
          "output_type": "stream",
          "name": "stdout",
          "text": [
            "Accuracy: 0.8333333333333334\n"
          ]
        }
      ]
    },
    {
      "cell_type": "markdown",
      "source": [
        "\n",
        "\n",
        "---\n",
        "\n"
      ],
      "metadata": {
        "id": "7bOI_sGhhWix"
      }
    },
    {
      "cell_type": "markdown",
      "source": [
        "# **LINEAR REGRESSION**"
      ],
      "metadata": {
        "id": "xKrFATDUhaz8"
      }
    },
    {
      "cell_type": "code",
      "source": [
        "#Code for Linear Regression here\n",
        "\n",
        "import numpy as np\n",
        "import pandas as pd\n",
        "from sklearn.linear_model import LinearRegression\n",
        "from sklearn.model_selection import train_test_split\n",
        "from sklearn.metrics import mean_squared_error\n",
        "\n",
        "real_estate_dataset = pd.read_excel('/content/Real_estate_valuation_data_set.xlsx')\n",
        "\n",
        "x=real_estate_dataset.iloc[:, 2:-1]\n",
        "y=real_estate_dataset.iloc[:, -1]\n",
        "\n",
        "x_train,x_test,y_train,y_test=train_test_split(x,y,test_size=0.2,random_state=42)\n",
        "\n",
        "value_predicting_model=LinearRegression()\n",
        "value_predicting_model.fit(x_train,y_train)\n",
        "prediction = value_predicting_model.predict(x_test)\n",
        "\n",
        "mse=mean_squared_error(y_test,prediction)\n",
        "\n",
        "print(\"Mean Squared Error =\",mse)"
      ],
      "metadata": {
        "id": "uWoeDoZKi6dI",
        "colab": {
          "base_uri": "https://localhost:8080/"
        },
        "outputId": "3349f229-8edb-465a-eb05-6f4c6094a12b"
      },
      "execution_count": 1,
      "outputs": [
        {
          "output_type": "stream",
          "name": "stdout",
          "text": [
            "Mean Squared Error = 54.58094520086248\n"
          ]
        }
      ]
    }
  ]
}