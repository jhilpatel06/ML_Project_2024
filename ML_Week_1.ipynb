{
  "nbformat": 4,
  "nbformat_minor": 0,
  "metadata": {
    "colab": {
      "provenance": [],
      "authorship_tag": "ABX9TyOScO3/o6cvU1n2l43DbMUg",
      "include_colab_link": true
    },
    "kernelspec": {
      "name": "python3",
      "display_name": "Python 3"
    },
    "language_info": {
      "name": "python"
    }
  },
  "cells": [
    {
      "cell_type": "markdown",
      "metadata": {
        "id": "view-in-github",
        "colab_type": "text"
      },
      "source": [
        "<a href=\"https://colab.research.google.com/github/jhilpatel06/ML_Project_2024/blob/main/ML_Week_1.ipynb\" target=\"_parent\"><img src=\"https://colab.research.google.com/assets/colab-badge.svg\" alt=\"Open In Colab\"/></a>"
      ]
    },
    {
      "cell_type": "markdown",
      "source": [
        "# ***Coding Problem-1***"
      ],
      "metadata": {
        "id": "YQCydqFEqx-Q"
      }
    },
    {
      "cell_type": "code",
      "source": [
        "# Write a program that takes a user's name and age as input and prints a Hello World! message that includes their name and age.\n",
        "\n",
        "name = input('Enter name : ')\n",
        "age = input('Enter age : ')\n",
        "print('Hello World',age,'years old',name,'!')\n"
      ],
      "metadata": {
        "colab": {
          "base_uri": "https://localhost:8080/"
        },
        "id": "Uvw7SwpbrFPH",
        "outputId": "ea8c4d99-f170-40f0-926b-fc489ed0a106"
      },
      "execution_count": null,
      "outputs": [
        {
          "output_type": "stream",
          "name": "stdout",
          "text": [
            "Enter name : ABC\n",
            "Enter age : 24\n",
            "Hello World 24 years old ABC !\n"
          ]
        }
      ]
    },
    {
      "cell_type": "code",
      "source": [
        "# Create a program that swaps the values of two variables without using a third variable.\n",
        "\n",
        "x=10\n",
        "y=20\n",
        "\n",
        "print('Before Swapping : x =',x,'y =',y)\n",
        "\n",
        "x=x+y\n",
        "y=x-y\n",
        "x=x-y\n",
        "\n",
        "print('After Swapping : x =',x,'y =',y)"
      ],
      "metadata": {
        "colab": {
          "base_uri": "https://localhost:8080/"
        },
        "id": "BRV82Wd5rNx6",
        "outputId": "24b54bd0-bacb-4c61-c374-b63211ff2f43"
      },
      "execution_count": null,
      "outputs": [
        {
          "output_type": "stream",
          "name": "stdout",
          "text": [
            "Before Swapping : x = 10 y = 20\n",
            "After Swapping : x = 20 y = 10\n"
          ]
        }
      ]
    },
    {
      "cell_type": "markdown",
      "source": [
        "# ***Coding Problem-2***"
      ],
      "metadata": {
        "id": "1CxDWKOlrZvJ"
      }
    },
    {
      "cell_type": "code",
      "source": [
        "# Create a program that prints the first 10 numbers of the Fibonacci sequence.\n",
        "\n",
        "temp1=0\n",
        "temp2=1\n",
        "\n",
        "for i in range(10):\n",
        "  if i==0:\n",
        "    print(temp2,end=' ')\n",
        "  else:\n",
        "    print(temp1+temp2,end=' ')\n",
        "    temp3=temp1\n",
        "    temp1=temp2\n",
        "    temp2+=temp3"
      ],
      "metadata": {
        "colab": {
          "base_uri": "https://localhost:8080/"
        },
        "id": "kQzHlFCOr6gR",
        "outputId": "71717481-d041-42a4-ceea-76eac12b3a28"
      },
      "execution_count": null,
      "outputs": [
        {
          "output_type": "stream",
          "name": "stdout",
          "text": [
            "1 1 2 3 5 8 13 21 34 55 "
          ]
        }
      ]
    },
    {
      "cell_type": "code",
      "source": [
        "# Make a list of even square numbers using nums\n",
        "\n",
        "nums=[0,1,2,3,4]\n",
        "\n",
        "square=[(2*nums[x])**2 for x in range(len(nums))]\n",
        "\n",
        "print(square)\n"
      ],
      "metadata": {
        "id": "DikC1mW_cQ0N",
        "colab": {
          "base_uri": "https://localhost:8080/"
        },
        "outputId": "3cd43120-8013-48f1-cb1c-14c2cf790328"
      },
      "execution_count": null,
      "outputs": [
        {
          "output_type": "stream",
          "name": "stdout",
          "text": [
            "[0, 4, 16, 36, 64]\n"
          ]
        }
      ]
    },
    {
      "cell_type": "code",
      "source": [
        "# Make a list of even numbers between 1 to 10 using list comprehension\n",
        "\n",
        "nums=[0,1,2,3,4]\n",
        "\n",
        "even=[2*(nums[x]+1) for x in range(len(nums))]\n",
        "\n",
        "print(even)"
      ],
      "metadata": {
        "colab": {
          "base_uri": "https://localhost:8080/"
        },
        "id": "gb6vVfJHbuUB",
        "outputId": "ca775449-b5a9-49c9-b702-2e9ba5f6095b"
      },
      "execution_count": null,
      "outputs": [
        {
          "output_type": "stream",
          "name": "stdout",
          "text": [
            "[2, 4, 6, 8, 10]\n"
          ]
        }
      ]
    },
    {
      "cell_type": "markdown",
      "source": [
        "# ***Coding Problem-3***"
      ],
      "metadata": {
        "id": "LcbwPxBcry62"
      }
    },
    {
      "cell_type": "code",
      "source": [
        "# Create a function that checks if a given string is a palindrome.\n",
        "\n",
        "def isPalindrome(s):\n",
        "    return s == s[::-1]\n",
        "\n",
        "s = \"abcba\"\n",
        "\n",
        "if isPalindrome(s):\n",
        "    print(\"Is Palindrome\")\n",
        "else:\n",
        "    print(\"Not a Palindrome\")\n"
      ],
      "metadata": {
        "id": "12ZKlprzT7as",
        "colab": {
          "base_uri": "https://localhost:8080/"
        },
        "outputId": "f21d836c-acf6-4597-e4fc-5b68e3a4069e"
      },
      "execution_count": null,
      "outputs": [
        {
          "output_type": "stream",
          "name": "stdout",
          "text": [
            "Is Palindrome\n"
          ]
        }
      ]
    },
    {
      "cell_type": "code",
      "source": [
        "# Create a program that removes duplicate elements from a list.\n",
        "\n",
        "def dupliremove(lst):\n",
        "  lst=list(set(lst))\n",
        "  return lst\n",
        "\n",
        "list1=[1,2,3,2,5,8,1]\n",
        "print(dupliremove(list1))"
      ],
      "metadata": {
        "id": "nazCXqINUGxi",
        "colab": {
          "base_uri": "https://localhost:8080/"
        },
        "outputId": "e7aaa017-1138-4178-e3b3-74b0861082f7"
      },
      "execution_count": null,
      "outputs": [
        {
          "output_type": "stream",
          "name": "stdout",
          "text": [
            "[1, 2, 3, 5, 8]\n"
          ]
        }
      ]
    },
    {
      "cell_type": "code",
      "source": [
        "# Write a class representing a simple bank account with methods to deposit, withdraw, and check balance.\n",
        "\n",
        "class Account:\n",
        "  def __init__(self,name,no):\n",
        "    self.name=name\n",
        "    self.acc_no=no\n",
        "    self.balance=0\n",
        "  def deposit(self,amt):\n",
        "    self.balance+=amt\n",
        "    print('Amount deposited successfully')\n",
        "  def withdraw(self,amt):\n",
        "    if self.balance < amt:\n",
        "      print('Insufficient balance.')\n",
        "    else:\n",
        "      self.balance-=amt\n",
        "      print('Amount withdrawn successfully')\n",
        "  def check_balance(self):\n",
        "    print('Current Balance =', self.balance)\n",
        "\n",
        "Acc_1=Account('ABC',12092)\n",
        "Acc_1.deposit(20000)\n",
        "Acc_1.check_balance()\n",
        "Acc_1.withdraw(5000)\n",
        "Acc_1.check_balance()\n"
      ],
      "metadata": {
        "id": "WynpNM5bUS_Z",
        "colab": {
          "base_uri": "https://localhost:8080/"
        },
        "outputId": "eaf10d13-0173-4b2c-9c9f-8bfa9db605fa"
      },
      "execution_count": null,
      "outputs": [
        {
          "output_type": "stream",
          "name": "stdout",
          "text": [
            "Amount deposited successfully\n",
            "Current Balance = 20000\n",
            "Amount withdrawn successfully\n",
            "Current Balance = 15000\n"
          ]
        }
      ]
    },
    {
      "cell_type": "markdown",
      "source": [
        "# ***Coding Problem-4***"
      ],
      "metadata": {
        "id": "lu6rWo2hrz0S"
      }
    },
    {
      "cell_type": "code",
      "source": [
        "## Write a program that creates a 3x3 matrix with values ranging from 1 to 9. Then, modify the matrix by doubling the values of the second row.\n",
        "\n",
        "import numpy as np\n",
        "arr=np.array([[1,2,3],[4,5,6],[7,8,9]])\n",
        "print('Original : ')\n",
        "print(arr)\n",
        "arr[1,:]*=2\n",
        "print('Modified : ')\n",
        "print(arr)"
      ],
      "metadata": {
        "id": "86bEejFgUt0P",
        "colab": {
          "base_uri": "https://localhost:8080/"
        },
        "outputId": "cc1e629a-71a9-49c2-b162-44c827ff6156"
      },
      "execution_count": null,
      "outputs": [
        {
          "output_type": "stream",
          "name": "stdout",
          "text": [
            "Original : \n",
            "[[1 2 3]\n",
            " [4 5 6]\n",
            " [7 8 9]]\n",
            "Modified : \n",
            "[[ 1  2  3]\n",
            " [ 8 10 12]\n",
            " [ 7  8  9]]\n"
          ]
        }
      ]
    }
  ]
}